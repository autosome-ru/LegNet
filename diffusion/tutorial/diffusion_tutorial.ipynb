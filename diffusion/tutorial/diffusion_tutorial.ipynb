{
 "cells": [
  {
   "cell_type": "markdown",
   "id": "0e85f290-ad1a-471a-8a98-da9fe80052d9",
   "metadata": {},
   "source": [
    "# Cold diffusion approach to promoters design "
   ]
  },
  {
   "cell_type": "markdown",
   "id": "ec140c5a-dd59-45e0-a48b-d31a24d4e0a5",
   "metadata": {},
   "source": [
    "This tutorial shows how LegNet can be used to design promoter sequences in cold diffusion manner."
   ]
  },
  {
   "cell_type": "markdown",
   "id": "11188601-af0d-4f4f-91bd-47caf3ac3bb5",
   "metadata": {},
   "source": [
    "## 1. Data\n",
    "The tab-separated training data must use the following format:\n",
    "\n",
    "First column: sequence. \n",
    "Second column: expression value.\n",
    "The data should be provided without any extra header line."
   ]
  },
  {
   "cell_type": "markdown",
   "id": "da5174fa-0f6c-467c-9580-e0b1c696c158",
   "metadata": {
    "execution": {
     "iopub.execute_input": "2023-07-30T08:36:41.780512Z",
     "iopub.status.busy": "2023-07-30T08:36:41.780100Z",
     "iopub.status.idle": "2023-07-30T08:36:41.786959Z",
     "shell.execute_reply": "2023-07-30T08:36:41.785923Z",
     "shell.execute_reply.started": "2023-07-30T08:36:41.780480Z"
    },
    "tags": []
   },
   "source": [
    "## 2. Architecture\n",
    "\n",
    "LegNet-Generator architecture. The principal difference from the original LegNet is the mapping block LegNet-Generator architecture. The principal difference from the original LegNet is the mapping block \n",
    "\n",
    "<img src=\"img/arc.png\" width=\"800\" />"
   ]
  },
  {
   "cell_type": "markdown",
   "id": "362413bb-cb3c-46fb-8535-129e110ad303",
   "metadata": {},
   "source": [
    "## 3. The main code of the model training\n",
    "\n",
    "The model training code is located in the following path\n",
    "`./LegNet/diffusion/train/default_training.ipynb`\n",
    "\n",
    " Training LegNet-Generator to iteratively correct introduced substitutions. In the model output (bottom right) green marks the mutated position that LegNet restored correctly, yellow marks the position unnecessarily changed by LegNet, and red marks the uncorrected mutated position.\n",
    "\n",
    "<img src=\"img/train.png\" width=\"800\" />\n"
   ]
  },
  {
   "cell_type": "markdown",
   "id": "24d65213-fe40-41a1-a718-e50776d712ab",
   "metadata": {},
   "source": [
    "## 3. Generation\n",
    "\n",
    "The generation code is located in the following path `./LegNet/diffusion/generation/Generation.ipynb`\n",
    "\n",
    "\n",
    "<img src=\"img/generate.png\" width=\"800\" />"
   ]
  }
 ],
 "metadata": {
  "kernelspec": {
   "display_name": "Python [conda env:ml]",
   "language": "python",
   "name": "conda-env-ml-py"
  },
  "language_info": {
   "codemirror_mode": {
    "name": "ipython",
    "version": 3
   },
   "file_extension": ".py",
   "mimetype": "text/x-python",
   "name": "python",
   "nbconvert_exporter": "python",
   "pygments_lexer": "ipython3",
   "version": "3.10.10"
  }
 },
 "nbformat": 4,
 "nbformat_minor": 5
}
